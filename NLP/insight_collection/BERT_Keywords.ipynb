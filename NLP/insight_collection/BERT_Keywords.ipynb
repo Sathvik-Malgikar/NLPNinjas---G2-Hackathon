{
 "cells": [
  {
   "cell_type": "code",
   "execution_count": 2,
   "metadata": {},
   "outputs": [],
   "source": [
    "from keybert import KeyBERT\n",
    "import pandas as pd"
   ]
  },
  {
   "cell_type": "code",
   "execution_count": 3,
   "metadata": {},
   "outputs": [],
   "source": [
    "kw_model = KeyBERT()"
   ]
  },
  {
   "cell_type": "code",
   "execution_count": 4,
   "metadata": {},
   "outputs": [
    {
     "data": {
      "text/html": [
       "<div>\n",
       "<style scoped>\n",
       "    .dataframe tbody tr th:only-of-type {\n",
       "        vertical-align: middle;\n",
       "    }\n",
       "\n",
       "    .dataframe tbody tr th {\n",
       "        vertical-align: top;\n",
       "    }\n",
       "\n",
       "    .dataframe thead th {\n",
       "        text-align: right;\n",
       "    }\n",
       "</style>\n",
       "<table border=\"1\" class=\"dataframe\">\n",
       "  <thead>\n",
       "    <tr style=\"text-align: right;\">\n",
       "      <th></th>\n",
       "      <th>Unnamed: 0</th>\n",
       "      <th>id</th>\n",
       "      <th>type</th>\n",
       "      <th>links</th>\n",
       "      <th>attributes</th>\n",
       "      <th>relationships</th>\n",
       "    </tr>\n",
       "  </thead>\n",
       "  <tbody>\n",
       "    <tr>\n",
       "      <th>0</th>\n",
       "      <td>0</td>\n",
       "      <td>18532</td>\n",
       "      <td>survey_responses</td>\n",
       "      <td>{'self': 'https://data.g2.com/api/v1/survey-re...</td>\n",
       "      <td>{'default_sort': 1.2710259698084911, 'product_...</td>\n",
       "      <td>{'product': {'links': {'self': 'https://data.g...</td>\n",
       "    </tr>\n",
       "    <tr>\n",
       "      <th>1</th>\n",
       "      <td>1</td>\n",
       "      <td>67896</td>\n",
       "      <td>survey_responses</td>\n",
       "      <td>{'self': 'https://data.g2.com/api/v1/survey-re...</td>\n",
       "      <td>{'default_sort': 2.5346166321766437, 'product_...</td>\n",
       "      <td>{'product': {'links': {'self': 'https://data.g...</td>\n",
       "    </tr>\n",
       "    <tr>\n",
       "      <th>2</th>\n",
       "      <td>2</td>\n",
       "      <td>177131</td>\n",
       "      <td>survey_responses</td>\n",
       "      <td>{'self': 'https://data.g2.com/api/v1/survey-re...</td>\n",
       "      <td>{'default_sort': 2.8232746888863036, 'product_...</td>\n",
       "      <td>{'product': {'links': {'self': 'https://data.g...</td>\n",
       "    </tr>\n",
       "    <tr>\n",
       "      <th>3</th>\n",
       "      <td>3</td>\n",
       "      <td>179859</td>\n",
       "      <td>survey_responses</td>\n",
       "      <td>{'self': 'https://data.g2.com/api/v1/survey-re...</td>\n",
       "      <td>{'default_sort': 3.098995914434322, 'product_n...</td>\n",
       "      <td>{'product': {'links': {'self': 'https://data.g...</td>\n",
       "    </tr>\n",
       "    <tr>\n",
       "      <th>4</th>\n",
       "      <td>4</td>\n",
       "      <td>179888</td>\n",
       "      <td>survey_responses</td>\n",
       "      <td>{'self': 'https://data.g2.com/api/v1/survey-re...</td>\n",
       "      <td>{'default_sort': 3.247624428366846, 'product_n...</td>\n",
       "      <td>{'product': {'links': {'self': 'https://data.g...</td>\n",
       "    </tr>\n",
       "  </tbody>\n",
       "</table>\n",
       "</div>"
      ],
      "text/plain": [
       "   Unnamed: 0      id              type  \\\n",
       "0           0   18532  survey_responses   \n",
       "1           1   67896  survey_responses   \n",
       "2           2  177131  survey_responses   \n",
       "3           3  179859  survey_responses   \n",
       "4           4  179888  survey_responses   \n",
       "\n",
       "                                               links  \\\n",
       "0  {'self': 'https://data.g2.com/api/v1/survey-re...   \n",
       "1  {'self': 'https://data.g2.com/api/v1/survey-re...   \n",
       "2  {'self': 'https://data.g2.com/api/v1/survey-re...   \n",
       "3  {'self': 'https://data.g2.com/api/v1/survey-re...   \n",
       "4  {'self': 'https://data.g2.com/api/v1/survey-re...   \n",
       "\n",
       "                                          attributes  \\\n",
       "0  {'default_sort': 1.2710259698084911, 'product_...   \n",
       "1  {'default_sort': 2.5346166321766437, 'product_...   \n",
       "2  {'default_sort': 2.8232746888863036, 'product_...   \n",
       "3  {'default_sort': 3.098995914434322, 'product_n...   \n",
       "4  {'default_sort': 3.247624428366846, 'product_n...   \n",
       "\n",
       "                                       relationships  \n",
       "0  {'product': {'links': {'self': 'https://data.g...  \n",
       "1  {'product': {'links': {'self': 'https://data.g...  \n",
       "2  {'product': {'links': {'self': 'https://data.g...  \n",
       "3  {'product': {'links': {'self': 'https://data.g...  \n",
       "4  {'product': {'links': {'self': 'https://data.g...  "
      ]
     },
     "execution_count": 4,
     "metadata": {},
     "output_type": "execute_result"
    }
   ],
   "source": [
    "reviews = pd.read_csv('./outputs/reviews.csv')\n",
    "reviews.head()"
   ]
  },
  {
   "cell_type": "code",
   "execution_count": 5,
   "metadata": {},
   "outputs": [],
   "source": [
    "for index, row in reviews.iterrows():\n",
    "    x = eval(row[\"attributes\"])\n",
    "    love_comment = x['comment_answers']['love']['value'] if 'love' in x['comment_answers'] else []\n",
    "    hate_comment = x['comment_answers']['hate']['value'] if 'hate' in x['comment_answers'] else []\n",
    "\n",
    "    love_keywords = kw_model.extract_keywords(love_comment, keyphrase_ngram_range=(1, 3), stop_words='english', top_n=8)\n",
    "    hate_keywords = kw_model.extract_keywords(hate_comment, keyphrase_ngram_range=(1, 3), stop_words='english', top_n=8)\n",
    "    x['love_keywords'] = love_keywords\n",
    "    x['hate_keywords'] = hate_keywords\n",
    "    reviews.at[index, 'attributes'] = x"
   ]
  },
  {
   "cell_type": "code",
   "execution_count": 6,
   "metadata": {},
   "outputs": [],
   "source": [
    "reviews.to_csv('./outputs/reviews_bert_keywords.csv')"
   ]
  }
 ],
 "metadata": {
  "kernelspec": {
   "display_name": "mainenv",
   "language": "python",
   "name": "python3"
  },
  "language_info": {
   "codemirror_mode": {
    "name": "ipython",
    "version": 3
   },
   "file_extension": ".py",
   "mimetype": "text/x-python",
   "name": "python",
   "nbconvert_exporter": "python",
   "pygments_lexer": "ipython3",
   "version": "3.12.0"
  }
 },
 "nbformat": 4,
 "nbformat_minor": 2
}
